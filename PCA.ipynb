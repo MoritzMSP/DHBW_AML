{
 "cells": [
  {
   "cell_type": "markdown",
   "id": "49c6eb90",
   "metadata": {},
   "source": [
    "# Principle Component Analysis\n",
    "Dieses Jupyter Notebook stellt eine Ergänzug zu der wissenschaftlichen Arbeit über die Principle Component Analysis dar. Der prinzipielle Aufbau des Notebooks ist daher gleich mit dem der Arbeit."
   ]
  },
  {
   "cell_type": "markdown",
   "id": "a03a683e",
   "metadata": {},
   "source": [
    "## Mathematische Grundlagen - Standardabweichung und Varianz\n",
    "Nachfolgend werden die Grafiken erzeugt, die in der wissenschftlichen Arbeit verwendet wurden, um den Unterschied zwischen einer geringen und einer hohen Varainz zu veranschaulichen."
   ]
  },
  {
   "cell_type": "code",
   "execution_count": null,
   "id": "4bd09868",
   "metadata": {},
   "outputs": [],
   "source": [
    "#Erstellen von Daten\n",
    "\n",
    "\n",
    "#Plotten von Daten\n",
    "\n",
    "\n",
    "#Speichern des Plots\n"
   ]
  },
  {
   "cell_type": "markdown",
   "id": "e576acc7",
   "metadata": {},
   "source": [
    "## Mathematische Grundlagen - Standardabweichung und Varianz\n"
   ]
  },
  {
   "cell_type": "code",
   "execution_count": null,
   "id": "06ccb4bb",
   "metadata": {},
   "outputs": [],
   "source": []
  }
 ],
 "metadata": {
  "kernelspec": {
   "display_name": "Python 3 (ipykernel)",
   "language": "python",
   "name": "python3"
  },
  "language_info": {
   "codemirror_mode": {
    "name": "ipython",
    "version": 3
   },
   "file_extension": ".py",
   "mimetype": "text/x-python",
   "name": "python",
   "nbconvert_exporter": "python",
   "pygments_lexer": "ipython3",
   "version": "3.9.12"
  }
 },
 "nbformat": 4,
 "nbformat_minor": 5
}
