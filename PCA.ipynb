{
 "cells": [
  {
   "cell_type": "markdown",
   "id": "49c6eb90",
   "metadata": {},
   "source": [
    "# Principle Comopnent Analysis\n",
    "\n",
    "Dies ist das ....\n",
    "\n",
    "Aufbau, Verwendung\n",
    "\n",
    "## Standarabweichung und Varainz\n"
   ]
  },
  {
   "cell_type": "code",
   "execution_count": null,
   "id": "4bd09868",
   "metadata": {},
   "outputs": [],
   "source": [
    "#Standartabweichung und Varianz\n",
    "#\n",
    "#..."
   ]
  },
  {
   "cell_type": "code",
   "execution_count": null,
   "id": "d54cd32e",
   "metadata": {},
   "outputs": [],
   "source": []
  }
 ],
 "metadata": {
  "kernelspec": {
   "display_name": "Python 3 (ipykernel)",
   "language": "python",
   "name": "python3"
  },
  "language_info": {
   "codemirror_mode": {
    "name": "ipython",
    "version": 3
   },
   "file_extension": ".py",
   "mimetype": "text/x-python",
   "name": "python",
   "nbconvert_exporter": "python",
   "pygments_lexer": "ipython3",
   "version": "3.9.12"
  }
 },
 "nbformat": 4,
 "nbformat_minor": 5
}
