{
 "cells": [
  {
   "cell_type": "markdown",
   "id": "49c6eb90",
   "metadata": {},
   "source": [
    "# Principle Component Analysis\n",
    "\n",
    "## 1. Einleitung\n",
    "Dieses Jupyter Notebook stellt eine Ergänzug zu der wissenschaftlichen Arbeit über die Principle Component Analysis dar. Der prinzipielle Aufbau des Notebooks ist daher gleich mit dem der Arbeit."
   ]
  },
  {
   "cell_type": "markdown",
   "id": "a03a683e",
   "metadata": {},
   "source": [
    "## 2. Mathematische Grundlagen \n",
    "Nachfolgend werden die Grafiken erzeugt, die in der wissenschftlichen Arbeit verwendet wurden, um den Unterschied zwischen einer geringen und einer hohen Varainz zu veranschaulichen.\n",
    "\n",
    "### 2.1 Standardabweichung und Varianz"
   ]
  },
  {
   "cell_type": "code",
   "execution_count": null,
   "id": "4bd09868",
   "metadata": {},
   "outputs": [],
   "source": [
    "#Erstellen von Daten\n",
    "X1 = \n",
    "X2 = \n",
    "\n",
    "#Plotten von Daten\n",
    "\n",
    "\n",
    "#Speichern des Plots\n",
    "\n"
   ]
  },
  {
   "cell_type": "markdown",
   "id": "e576acc7",
   "metadata": {},
   "source": [
    "### 2.2 Eigenwerte und Eigenvektoren\n"
   ]
  },
  {
   "cell_type": "code",
   "execution_count": null,
   "id": "06ccb4bb",
   "metadata": {},
   "outputs": [],
   "source": [
    "#Erstellen einer Matix\n",
    "\n",
    "\n",
    "#Berechnung der Eigenwerte und Eigenvektoren\n",
    "\n",
    "\n",
    "#Zeigen, dass Eigenvektoren rechtwicklig zueinader sind\n"
   ]
  },
  {
   "cell_type": "markdown",
   "id": "bd709946",
   "metadata": {},
   "source": [
    "## 3. Durchführung einer PCA\n",
    "\n",
    "### 3.1 Standardisierung"
   ]
  },
  {
   "cell_type": "code",
   "execution_count": null,
   "id": "234fba69",
   "metadata": {},
   "outputs": [],
   "source": []
  },
  {
   "cell_type": "markdown",
   "id": "5dc21027",
   "metadata": {},
   "source": [
    "### 3.2 Berechnung der Kovarainzmatrix"
   ]
  },
  {
   "cell_type": "code",
   "execution_count": null,
   "id": "7c8b1e6a",
   "metadata": {},
   "outputs": [],
   "source": []
  }
 ],
 "metadata": {
  "kernelspec": {
   "display_name": "Python 3 (ipykernel)",
   "language": "python",
   "name": "python3"
  },
  "language_info": {
   "codemirror_mode": {
    "name": "ipython",
    "version": 3
   },
   "file_extension": ".py",
   "mimetype": "text/x-python",
   "name": "python",
   "nbconvert_exporter": "python",
   "pygments_lexer": "ipython3",
   "version": "3.9.12"
  }
 },
 "nbformat": 4,
 "nbformat_minor": 5
}
