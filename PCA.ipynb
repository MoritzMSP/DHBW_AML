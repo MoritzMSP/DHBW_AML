{
 "cells": [
  {
   "cell_type": "markdown",
   "id": "49c6eb90",
   "metadata": {},
   "source": [
    "# Principle Component Analysis\n",
    "\n",
    "## 1. Einleitung\n",
    "Dieses Jupyter Notebook stellt eine Ergänzug zu der wissenschaftlichen Arbeit über die Principle Component Analysis dar. Der prinzipielle Aufbau des Notebooks ist daher gleich mit dem der Arbeit."
   ]
  },
  {
   "cell_type": "markdown",
   "id": "a03a683e",
   "metadata": {},
   "source": [
    "## 2. Mathematische Grundlagen \n",
    "Nachfolgend werden die Grafiken erzeugt, die in der wissenschftlichen Arbeit verwendet wurden, um den Unterschied zwischen einer geringen und einer hohen Varainz zu veranschaulichen.\n",
    "\n",
    "### 2.1 Standardabweichung und Varianz"
   ]
  },
  {
   "cell_type": "code",
   "execution_count": 30,
   "id": "4bd09868",
   "metadata": {},
   "outputs": [
    {
     "data": {
      "image/png": "[encoded data removed]",
      "text/plain": [
       "<Figure size 432x288 with 1 Axes>"
      ]
     },
     "metadata": {
      "needs_background": "light"
     },
     "output_type": "display_data"
    },
    {
     "data": {
      "text/plain": [
       "<Figure size 432x288 with 0 Axes>"
      ]
     },
     "metadata": {},
     "output_type": "display_data"
    }
   ],
   "source": [
    "import numpy as np\n",
    "import matplotlib.pyplot as plt\n",
    "\n",
    "#Erstellen von Daten\n",
    "X1 = np.arange(-1, 1.1, 0.1)\n",
    "X2 = np.arange(-10, 11, 1)\n",
    "Y1 = np.repeat(-1,len(X1))\n",
    "Y2 = np.repeat(1,len(X2))\n",
    "\n",
    "#Plotten von Daten\n",
    "plt.plot(Y1, X1, 'x')\n",
    "plt.plot(Y2, X2, 'x')\n",
    "\n",
    "#Formatierung des Plots\n",
    "plt.grid()\n",
    "plt.xlim(-2, 2)\n",
    "plt.ylim(-12, 12)\n",
    "plt.show()\n",
    "\n",
    "#Speichern des Plots\n",
    "plt.savefig('Std_Var.png')"
   ]
  },
  {
   "cell_type": "markdown",
   "id": "e576acc7",
   "metadata": {},
   "source": [
    "### 2.2 Eigenwerte und Eigenvektoren\n"
   ]
  },
  {
   "cell_type": "code",
   "execution_count": null,
   "id": "06ccb4bb",
   "metadata": {},
   "outputs": [],
   "source": [
    "#Erstellen einer Matix\n",
    "\n",
    "\n",
    "#Berechnung der Eigenwerte und Eigenvektoren\n",
    "\n",
    "\n",
    "#Zeigen, dass Eigenvektoren rechtwicklig zueinader sind\n"
   ]
  },
  {
   "cell_type": "markdown",
   "id": "119d5a1f",
   "metadata": {},
   "source": [
    "## 3. Durchführung einer PCA\n",
    "\n",
    "### 3.1 Standardisierung"
   ]
  },
  {
   "cell_type": "code",
   "execution_count": null,
   "id": "7467627b",
   "metadata": {},
   "outputs": [],
   "source": []
  },
  {
   "cell_type": "markdown",
   "id": "bda079ec",
   "metadata": {},
   "source": [
    "### 3.2 Berechnung der Kovarainzmatrix"
   ]
  },
  {
   "cell_type": "code",
   "execution_count": null,
   "id": "e0da7102",
   "metadata": {},
   "outputs": [],
   "source": []
  }
 ],
 "metadata": {
  "kernelspec": {
   "display_name": "Python 3 (ipykernel)",
   "language": "python",
   "name": "python3"
  },
  "language_info": {
   "codemirror_mode": {
    "name": "ipython",
    "version": 3
   },
   "file_extension": ".py",
   "mimetype": "text/x-python",
   "name": "python",
   "nbconvert_exporter": "python",
   "pygments_lexer": "ipython3",
   "version": "3.9.12"
  }
 },
 "nbformat": 4,
 "nbformat_minor": 5
}
